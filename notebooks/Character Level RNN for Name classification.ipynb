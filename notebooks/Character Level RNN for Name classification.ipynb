{
 "cells": [
  {
   "cell_type": "markdown",
   "metadata": {},
   "source": [
    "# Character Level RNN for Name classification"
   ]
  },
  {
   "cell_type": "markdown",
   "metadata": {},
   "source": [
    "This is my implementation of [PyTorch tutorial](https://pytorch.org/tutorials/intermediate/char_rnn_classification_tutorial.html) on name classification using Character Level RNN"
   ]
  },
  {
   "cell_type": "markdown",
   "metadata": {},
   "source": [
    "The goal of the model is given a surname, predict the language of origin (e.g. English, Scottish, German, etc.)"
   ]
  },
  {
   "cell_type": "markdown",
   "metadata": {},
   "source": [
    "## Dataset"
   ]
  },
  {
   "cell_type": "markdown",
   "metadata": {},
   "source": [
    "For training the model we will use the we will use the same dataset used in the original tutorial. It can be downloaded from this [link](https://download.pytorch.org/tutorial/data.zip)."
   ]
  },
  {
   "cell_type": "markdown",
   "metadata": {},
   "source": [
    "Once you download the data, it consists of 18 files named as ```[language].txt``` each file contains a set of names that originated from this language.\n",
    "\n",
    "<img src=\"images/languages.PNG\" width=\"200px\" />"
   ]
  },
  {
   "cell_type": "markdown",
   "metadata": {},
   "source": [
    "## Loading the Data"
   ]
  },
  {
   "cell_type": "code",
   "execution_count": 1,
   "metadata": {},
   "outputs": [],
   "source": [
    "import io\n",
    "import unicodedata\n",
    "import string\n",
    "\n",
    "def unicodeToAscii(s):\n",
    "    all_letters = string.ascii_letters + \".,;'\"\n",
    "    return ''.join(\n",
    "        c for c in unicodedata.normalize('NFD', s)\n",
    "        if unicodedata.category(c) != 'Mn'\n",
    "        and c in all_letters)\n",
    "\n",
    "def readLines(filename):\n",
    "    lines = io.open(filename, encoding='utf-8').read().strip().split('\\n')\n",
    "    return lines"
   ]
  },
  {
   "cell_type": "code",
   "execution_count": 2,
   "metadata": {},
   "outputs": [],
   "source": [
    "import os\n",
    "\n",
    "categories = []\n",
    "category_lines = {}\n",
    "\n",
    "current_path = os.getcwd()\n",
    "path = os.path.join(current_path, 'data', 'names')\n",
    "languages = os.listdir(path)\n",
    "\n",
    "for filename in languages:\n",
    "    category = os.path.splitext(filename)[0]\n",
    "    categories.append(category)\n",
    "    lines = readLines(os.path.join(current_path, 'data', 'names', filename))\n",
    "    category_lines[category] = lines"
   ]
  },
  {
   "cell_type": "markdown",
   "metadata": {},
   "source": [
    "The datastructure ```caterorgy_lines``` is a dictionary that maps each language to a list of names."
   ]
  },
  {
   "cell_type": "code",
   "execution_count": 3,
   "metadata": {},
   "outputs": [
    {
     "data": {
      "text/plain": [
       "['Khoury', 'Nahas', 'Daher', 'Gerges', 'Nazari', 'Maalouf', 'Gerges']"
      ]
     },
     "execution_count": 3,
     "metadata": {},
     "output_type": "execute_result"
    }
   ],
   "source": [
    "# sample names\n",
    "category_lines['Arabic'][:7]"
   ]
  },
  {
   "cell_type": "code",
   "execution_count": 4,
   "metadata": {},
   "outputs": [],
   "source": [
    "import numpy as np\n",
    "X = []\n",
    "y = []\n",
    "\n",
    "for cat, names in category_lines.items():\n",
    "    for name in names:\n",
    "        X.append(name)\n",
    "        y.append(cat)  \n",
    "\n",
    "X = np.array(X)\n",
    "y = np.array(y)"
   ]
  },
  {
   "cell_type": "code",
   "execution_count": 5,
   "metadata": {},
   "outputs": [
    {
     "data": {
      "text/plain": [
       "(20074,)"
      ]
     },
     "execution_count": 5,
     "metadata": {},
     "output_type": "execute_result"
    }
   ],
   "source": [
    "# size of the dataset\n",
    "X.shape"
   ]
  },
  {
   "cell_type": "markdown",
   "metadata": {},
   "source": [
    "## Feature Representation"
   ]
  },
  {
   "cell_type": "markdown",
   "metadata": {},
   "source": [
    "The next step is to turn each name into a Tensor. Each character is  represented using one hot encoding and the word is a matrix that contains all the vectors of the individual characters."
   ]
  },
  {
   "cell_type": "code",
   "execution_count": 6,
   "metadata": {},
   "outputs": [],
   "source": [
    "import torch\n",
    "\n",
    "all_letters = string.ascii_letters + \".,;'\"\n",
    "n_letters = len(all_letters)\n",
    "\n",
    "def letterToVector(letter):\n",
    "    tensor = torch.zeros(n_letters)\n",
    "    letterIdx = all_letters.find(letter)\n",
    "    tensor[letterIdx] = 1\n",
    "    return tensor\n",
    "\n",
    "def nameToTensor(name):\n",
    "    tensor = torch.zeros(len(name), n_letters)\n",
    "    for  idx, c in enumerate(name):\n",
    "        tensor[idx] = letterToVector(c)\n",
    "    return tensor.unsqueeze(1)"
   ]
  },
  {
   "cell_type": "markdown",
   "metadata": {},
   "source": [
    "## Train Test Split"
   ]
  },
  {
   "cell_type": "code",
   "execution_count": 7,
   "metadata": {},
   "outputs": [],
   "source": [
    "import numpy as np\n",
    "def train_test_split(data, labels, test_size=0.2, random_state=0):\n",
    "    np.random.seed(random_state)\n",
    "    N = labels.shape[0]\n",
    "    idx = np.random.permutation(N)\n",
    "    train_size = int(np.ceil((1-test_size)*N))\n",
    "    X_train = data[idx[:train_size]]\n",
    "    y_train = labels[idx[:train_size]]\n",
    "    X_test = data[idx[train_size:]]\n",
    "    y_test = labels[idx[train_size:]]\n",
    "    return X_train, X_test, y_train, y_test"
   ]
  },
  {
   "cell_type": "code",
   "execution_count": 8,
   "metadata": {},
   "outputs": [
    {
     "name": "stdout",
     "output_type": "stream",
     "text": [
      "X_train shape: (16060,)\n",
      "X_test shape: (4014,)\n",
      "y_train shape: (16060,)\n",
      "y_test shape: (4014,)\n"
     ]
    }
   ],
   "source": [
    "X_train, X_test, y_train, y_test = train_test_split(X, y, test_size=0.2, random_state=113)\n",
    "print(f\"X_train shape: {X_train.shape}\")\n",
    "print(f\"X_test shape: {X_test.shape}\")\n",
    "print(f\"y_train shape: {y_train.shape}\")\n",
    "print(f\"y_test shape: {y_test.shape}\")"
   ]
  },
  {
   "cell_type": "markdown",
   "metadata": {},
   "source": [
    "## Building the Model"
   ]
  },
  {
   "cell_type": "code",
   "execution_count": 9,
   "metadata": {},
   "outputs": [],
   "source": [
    "import torch.nn as nn\n",
    "import torch.nn.functional as F\n",
    "import torch.optim as optim"
   ]
  },
  {
   "cell_type": "code",
   "execution_count": 10,
   "metadata": {},
   "outputs": [],
   "source": [
    "class RNN(nn.Module):\n",
    "    def __init__(self, input_size, hidden_size, output_size):\n",
    "        super(RNN, self).__init__()\n",
    "        \n",
    "        self.hidden_size = hidden_size\n",
    "        \n",
    "        self.input_to_hidden = nn.Linear(input_size + hidden_size, hidden_size)\n",
    "        self.input_to_output = nn.Linear(input_size + hidden_size, output_size)\n",
    "        self.softmax = nn.LogSoftmax(dim=1)\n",
    "        \n",
    "    def forward(self, input, hidden):\n",
    "        combined_state = torch.cat((input, hidden), 1)\n",
    "        hidden = self.input_to_hidden(combined_state)\n",
    "        output = self.input_to_output(combined_state)\n",
    "        output = self.softmax(output)\n",
    "        return output, hidden"
   ]
  },
  {
   "cell_type": "code",
   "execution_count": 11,
   "metadata": {},
   "outputs": [],
   "source": [
    "n_hidden = 128"
   ]
  },
  {
   "cell_type": "code",
   "execution_count": 24,
   "metadata": {},
   "outputs": [
    {
     "data": {
      "text/plain": [
       "RNN(\n",
       "  (input_to_hidden): Linear(in_features=184, out_features=128, bias=True)\n",
       "  (input_to_output): Linear(in_features=184, out_features=18, bias=True)\n",
       "  (softmax): LogSoftmax()\n",
       ")"
      ]
     },
     "execution_count": 24,
     "metadata": {},
     "output_type": "execute_result"
    }
   ],
   "source": [
    "model = RNN(n_letters, n_hidden, len(categories))\n",
    "model"
   ]
  },
  {
   "cell_type": "markdown",
   "metadata": {},
   "source": [
    "## Train the model"
   ]
  },
  {
   "cell_type": "markdown",
   "metadata": {},
   "source": [
    "we will use the negative likelihood loss and the adam optimizer"
   ]
  },
  {
   "cell_type": "code",
   "execution_count": 25,
   "metadata": {},
   "outputs": [],
   "source": [
    "criterion = nn.NLLLoss()\n",
    "optimizer = optim.Adam(model.parameters())"
   ]
  },
  {
   "cell_type": "markdown",
   "metadata": {},
   "source": [
    "we will use a custom dataset to split the data into batches where each batch is a single name"
   ]
  },
  {
   "cell_type": "code",
   "execution_count": 26,
   "metadata": {},
   "outputs": [],
   "source": [
    "from torch.utils.data import Dataset\n",
    "from torch.utils.data import DataLoader"
   ]
  },
  {
   "cell_type": "code",
   "execution_count": 27,
   "metadata": {},
   "outputs": [],
   "source": [
    "class ListDataset(Dataset):\n",
    "    \n",
    "    def __init__(self, *lists):\n",
    "        self.lists = lists\n",
    "\n",
    "    def __getitem__(self, index):\n",
    "        return tuple(lst[index] for lst in self.lists)\n",
    "\n",
    "    def __len__(self):\n",
    "        return len(self.lists[0])"
   ]
  },
  {
   "cell_type": "code",
   "execution_count": 28,
   "metadata": {},
   "outputs": [],
   "source": [
    "train_data = ListDataset(X_train, y_train)\n",
    "val_data = ListDataset(X_test, y_test)\n",
    "train_dataloader = DataLoader(dataset=train_data, batch_size=1)\n",
    "val_dataloader = DataLoader(dataset=val_data, batch_size=1)\n",
    "dataloaders = {'train': train_dataloader, 'val':val_dataloader}\n",
    "dataset_sizes = {'train': len(X_train), 'val': len(X_test)}"
   ]
  },
  {
   "cell_type": "code",
   "execution_count": 29,
   "metadata": {},
   "outputs": [],
   "source": [
    "import time\n",
    "def train_model(model, criterion, optimizer, dataset_sizes, bs, num_epochs):\n",
    "    \n",
    "    since = time.time()\n",
    "    epoch_loss = []\n",
    "    epoch_acc = []\n",
    "\n",
    "    print_every = int((dataset_sizes['train']/bs)/10)\n",
    "    \n",
    "    for epoch in range(num_epochs):\n",
    "        print('Epoch {}/{}'.format(epoch, num_epochs - 1))\n",
    "        print('-' * 10)\n",
    "\n",
    "        # Each epoch has a training and validation phase\n",
    "        for phase in ['train', 'val']:\n",
    "            if phase == 'train':\n",
    "                model.train()  # Set model to training mode\n",
    "            else:\n",
    "                model.eval()   # Set model to evaluate mode\n",
    "\n",
    "            i = 0\n",
    "            running_loss = 0.0\n",
    "            running_corrects = 0\n",
    "            \n",
    "            if phase == 'train':\n",
    "                 print(f'\\rProgress:',end='')\n",
    "                    \n",
    "            # Iterate over data.\n",
    "            for inputs, labels in dataloaders[phase]:\n",
    "                \n",
    "                # zero the parameter gradients\n",
    "                optimizer.zero_grad()\n",
    "                \n",
    "                 #initialize the hidden state\n",
    "                hidden = torch.zeros(1, n_hidden)\n",
    "                \n",
    "                \n",
    "                input_tensor = nameToTensor(inputs[0])\n",
    "                label_tensor = torch.tensor([categories.index(labels[0])], dtype=torch.long) \n",
    "\n",
    "                # forward\n",
    "                with torch.set_grad_enabled(phase == 'train'):\n",
    "                     \n",
    "                    for ix in range(input_tensor.size()[0]):\n",
    "                        output, hidden = model(input_tensor[ix], hidden)\n",
    "                    \n",
    "                    _, preds = torch.max(output, 1)\n",
    "                    loss = criterion(output, label_tensor)\n",
    "\n",
    "                if phase == 'train':\n",
    "                    loss.backward()\n",
    "                    optimizer.step()\n",
    "                \n",
    "                \n",
    "                # statistics\n",
    "                running_loss += loss.item()\n",
    "                running_corrects += torch.sum(preds == label_tensor.data)\n",
    "               \n",
    "                if phase == 'train' and i % print_every == print_every - 1:\n",
    "                    print(f\"\\rProgress: [{'='*((i+1)//print_every)}] \",end='')\n",
    "                          \n",
    "               \n",
    "                i += 1  \n",
    "                \n",
    "            epoch_loss.append(running_loss / dataset_sizes[phase])\n",
    "            epoch_acc.append(running_corrects.numpy() / dataset_sizes[phase])\n",
    "\n",
    "            print('{} Loss: {:.4f} Acc: {:.4f}'.format(\n",
    "                phase, epoch_loss[-1], epoch_acc[-1]))\n",
    "\n",
    "        print()\n",
    "\n",
    "    time_elapsed = time.time() - since\n",
    "    print('Training complete in {:.0f}m {:.0f}s'.format(\n",
    "        time_elapsed // 60, time_elapsed % 60))\n",
    "\n",
    "    return epoch_loss, epoch_acc"
   ]
  },
  {
   "cell_type": "code",
   "execution_count": 30,
   "metadata": {},
   "outputs": [
    {
     "name": "stdout",
     "output_type": "stream",
     "text": [
      "Epoch 0/7\n",
      "----------\n",
      "Progress: [==========] train Loss: 1.1802 Acc: 0.6504\n",
      "val Loss: 0.9779 Acc: 0.7040\n",
      "\n",
      "Epoch 1/7\n",
      "----------\n",
      "Progress: [==========] train Loss: 0.9365 Acc: 0.7113\n",
      "val Loss: 0.9092 Acc: 0.7192\n",
      "\n",
      "Epoch 2/7\n",
      "----------\n",
      "Progress: [==========] train Loss: 0.8791 Acc: 0.7257\n",
      "val Loss: 0.8817 Acc: 0.7270\n",
      "\n",
      "Epoch 3/7\n",
      "----------\n",
      "Progress: [==========] train Loss: 0.8552 Acc: 0.7321\n",
      "val Loss: 0.8895 Acc: 0.7302\n",
      "\n",
      "Epoch 4/7\n",
      "----------\n",
      "Progress: [==========] train Loss: 0.8389 Acc: 0.7368\n",
      "val Loss: 0.8654 Acc: 0.7394\n",
      "\n",
      "Epoch 5/7\n",
      "----------\n",
      "Progress: [==========] train Loss: 0.8249 Acc: 0.7415\n",
      "val Loss: 0.8664 Acc: 0.7427\n",
      "\n",
      "Epoch 6/7\n",
      "----------\n",
      "Progress: [==========] train Loss: 0.8174 Acc: 0.7415\n",
      "val Loss: 0.8363 Acc: 0.7466\n",
      "\n",
      "Epoch 7/7\n",
      "----------\n",
      "Progress: [==========] train Loss: 0.8086 Acc: 0.7457\n",
      "val Loss: 0.8339 Acc: 0.7491\n",
      "\n",
      "Training complete in 19m 1s\n"
     ]
    }
   ],
   "source": [
    "epoch_loss, epoch_acc = train_model(model, criterion, optimizer, dataset_sizes,bs=1, num_epochs=8)"
   ]
  },
  {
   "cell_type": "code",
   "execution_count": 23,
   "metadata": {},
   "outputs": [],
   "source": [
    "torch.save(model.state_dict(), \"model.h5\")"
   ]
  },
  {
   "cell_type": "code",
   "execution_count": 19,
   "metadata": {},
   "outputs": [
    {
     "data": {
      "text/plain": [
       "<All keys matched successfully>"
      ]
     },
     "execution_count": 19,
     "metadata": {},
     "output_type": "execute_result"
    }
   ],
   "source": [
    "model.load_state_dict(torch.load(\"model.h5\"))"
   ]
  },
  {
   "cell_type": "markdown",
   "metadata": {},
   "source": [
    "our model got 74.57% accuracy on the training dataset and 74.91% accuracy on the validation dataset. we can plot a graph of the loss and learning rate as they progress over the epochs. "
   ]
  },
  {
   "cell_type": "code",
   "execution_count": 35,
   "metadata": {},
   "outputs": [],
   "source": [
    "import matplotlib.pyplot as plt"
   ]
  },
  {
   "cell_type": "code",
   "execution_count": 36,
   "metadata": {},
   "outputs": [],
   "source": [
    "# plot loss\n",
    "accuracy = epoch_acc[::2]\n",
    "val_accuracy = epoch_acc[1::2]\n",
    "loss = epoch_loss[::2]\n",
    "val_loss = epoch_loss[1::2]"
   ]
  },
  {
   "cell_type": "code",
   "execution_count": 37,
   "metadata": {},
   "outputs": [
    {
     "data": {
      "text/plain": [
       "<matplotlib.legend.Legend at 0x2194264ee48>"
      ]
     },
     "execution_count": 37,
     "metadata": {},
     "output_type": "execute_result"
    },
    {
     "data": {
      "image/png": "[encoded data removed]",
      "text/plain": [
       "<Figure size 432x288 with 1 Axes>"
      ]
     },
     "metadata": {
      "needs_background": "light"
     },
     "output_type": "display_data"
    }
   ],
   "source": [
    "#plot accuracy\n",
    "plt.figure()\n",
    "plt.plot(accuracy, label = 'Training Accuracy')\n",
    "plt.plot(val_accuracy, label = 'Validation Accuracy')\n",
    "plt.title('Accuray')\n",
    "plt.xlabel('epochs')\n",
    "plt.ylabel('accuracy')\n",
    "plt.legend()"
   ]
  },
  {
   "cell_type": "code",
   "execution_count": 38,
   "metadata": {},
   "outputs": [
    {
     "data": {
      "text/plain": [
       "<matplotlib.legend.Legend at 0x21943844f48>"
      ]
     },
     "execution_count": 38,
     "metadata": {},
     "output_type": "execute_result"
    },
    {
     "data": {
      "image/png": "[encoded data removed]",
      "text/plain": [
       "<Figure size 432x288 with 1 Axes>"
      ]
     },
     "metadata": {
      "needs_background": "light"
     },
     "output_type": "display_data"
    }
   ],
   "source": [
    "#plot loss\n",
    "plt.figure()\n",
    "plt.plot(loss, label = 'Training Loss')\n",
    "plt.plot(val_loss, label = 'Validation Loss')\n",
    "plt.title('Loss')\n",
    "plt.xlabel('epochs')\n",
    "plt.ylabel('loss')\n",
    "plt.legend()"
   ]
  }
 ],
 "metadata": {
  "kernelspec": {
   "display_name": "Python 3",
   "language": "python",
   "name": "python3"
  },
  "language_info": {
   "codemirror_mode": {
    "name": "ipython",
    "version": 3
   },
   "file_extension": ".py",
   "mimetype": "text/x-python",
   "name": "python",
   "nbconvert_exporter": "python",
   "pygments_lexer": "ipython3",
   "version": "3.7.7"
  }
 },
 "nbformat": 4,
 "nbformat_minor": 4
}
